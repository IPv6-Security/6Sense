{
 "cells": [
  {
   "cell_type": "markdown",
   "id": "0cef8c77",
   "metadata": {},
   "source": [
    "\"\"\"\n",
    "Copyright 2024 Georgia Institute of Technology\n",
    "\n",
    "Licensed under the Apache License, Version 2.0 (the \"License\");\n",
    "you may not use this file except in compliance with the License.\n",
    "You may obtain a copy of the License at\n",
    "\n",
    "      http://www.apache.org/licenses/LICENSE-2.0\n",
    "\n",
    "Unless required by applicable law or agreed to in writing, software\n",
    "distributed under the License is distributed on an \"AS IS\" BASIS,\n",
    "WITHOUT WARRANTIES OR CONDITIONS OF ANY KIND, either express or implied.\n",
    "See the License for the specific language governing permissions and\n",
    "limitations under the License.\n",
    " \"\"\""
   ]
  },
  {
   "cell_type": "markdown",
   "id": "793eda32",
   "metadata": {},
   "source": [
    "# Gradient Testing on Generation"
   ]
  },
  {
   "cell_type": "code",
   "execution_count": null,
   "id": "7e74916c",
   "metadata": {},
   "outputs": [],
   "source": [
    "%load_ext autoreload\n",
    "%autoreload 2\n",
    "\n",
    "import time\n",
    "import sys\n",
    "import numpy as np\n",
    "from math import log\n",
    "import math\n",
    "from scipy.stats import entropy\n",
    "from Generator.cython_print_ips import print_ips\n",
    "oldstderr = sys.stderr\n",
    "\n",
    "import matplotlib.pyplot as plt\n",
    "from iplibrary import AS_Processor\n",
    "from Generator.SeedObject import SeedObject\n",
    "from Generator.RunGeneration import Training_Evaluation, ComparisonModel_online\n",
    "from Generator.Generator import Generator_AUL\n",
    "from Generator.ModelWrapper import ModelBase\n",
    "from Generator.AdditionalGenerators import  IterativeOnPriorPatternsLowerGeneratorFaster, FixedLowBit\n",
    "from Generator.AllocationGenerator import NaiveWeightUpdateWithoutZerosEvenFirst\n",
    "from Generator.NN_models import GeneratorMaskedLSTM\n",
    "from Generator.DatasetEncoders import AllocationEncoder\n",
    "from Generator.Sampling import predict_base_function, predict_base_function_faster\n",
    "from Generator.MultiProcessSIDGenerator import MultiProcessSIDGenerator\n",
    "from Generator.MultiProcessIIDGenerator import MultiProcessIIDGenerator, MultiProcessSamplingIIDGenerator\n",
    "\n",
    "\n",
    "import config as conf"
   ]
  },
  {
   "cell_type": "markdown",
   "id": "b98973f7",
   "metadata": {},
   "source": [
    "## Run Model"
   ]
  },
  {
   "cell_type": "code",
   "execution_count": null,
   "id": "2520cafe",
   "metadata": {},
   "outputs": [],
   "source": [
    "Comparison_name = \"EXPERIMENT_NAME_HERE\"\n",
    "t1 = time.time()\n",
    "seedDatasetObject = SeedObject(Comparison_name, \n",
    "                               sid_checkpoint=conf.CHECKPOINT_LSTM, \n",
    "                               dataset_prefix=conf.DATASET_FILE, \n",
    "                               lower_names_to_use=[\"all_ips\"], \n",
    "                               lower=True, \n",
    "                               prefix_filename=conf.UPDATED_PFX_AS_FILE)\n",
    "t2 = time.time()\n",
    "print(\"Seed Dataset Time: \", t2-t1)"
   ]
  },
  {
   "cell_type": "code",
   "execution_count": null,
   "id": "e451f214",
   "metadata": {
    "scrolled": false
   },
   "outputs": [],
   "source": [
    "# Weighted Search - 100M - Balanced with Hits\n",
    "t1 = time.time()\n",
    "c = ComparisonModel_online(100000000, \n",
    "                            Comparison_name, \n",
    "                            Generator_AUL,\n",
    "                            seedDatasetObject, \n",
    "                            ppi=1000000,\n",
    "                            per_iteration=100000,\n",
    "                            Lower64=MultiProcessIIDGenerator,\n",
    "                            Upper64=MultiProcessSIDGenerator,\n",
    "                            Allocations=NaiveWeightUpdateWithoutZerosEvenFirst,\n",
    "                            Upper64_HPs={\"sampler\":predict_base_function_faster, \n",
    "                                     \"model\":GeneratorMaskedLSTM,\n",
    "                                     \"sampling_batch_size\":10500,\n",
    "                                     \"gpus\":8,\n",
    "                                     \"lr\":1e-3, \n",
    "                                     \"dropout\":0.2, \n",
    "                                     \"layers\":[512, 256], \n",
    "                                     \"encoder\":AllocationEncoder, \n",
    "                                     \"preload\":True, \n",
    "                                     \"validation_split\":0.15},                         \n",
    "                           Lower64_HPs={\"Allocations\":seedDatasetObject.allocation_proc_models.allocation_strings,\n",
    "                                     \"subprocesses\":40},                            \n",
    "                           Allocation_HPs={\"threshold\":0.5, \n",
    "                                            \"observation_window\":3},\n",
    "                           )\n",
    "t2 = time.time()\n",
    "print(\"Time: \", t2-t1)\n",
    "print(\"Time per IP:\", (t2-t1)/100000000)"
   ]
  },
  {
   "cell_type": "markdown",
   "id": "90e58542",
   "metadata": {},
   "source": [
    "## Train Model"
   ]
  },
  {
   "cell_type": "code",
   "execution_count": null,
   "id": "45a9d76f",
   "metadata": {},
   "outputs": [],
   "source": [
    "Comparison_name = \"EXPERIMENT_NAME_HERE\"\n",
    "t1 = time.time()\n",
    "seedDatasetObject = SeedObject(Comparison_name, \n",
    "                               sid_checkpoint=conf.CHECKPOINT_LSTM, \n",
    "                               dataset_prefix=conf.DATASET_FILE, \n",
    "                               lower_names_to_use=[\"all_ips\"], \n",
    "                               lower=True,\n",
    "                               prefix_filename=conf.UPDATED_PFX_AS_FILE)\n",
    "t2 = time.time()\n",
    "print(\"Seed Dataset Time: \", t2-t1)"
   ]
  },
  {
   "cell_type": "code",
   "execution_count": null,
   "id": "c725e293",
   "metadata": {},
   "outputs": [],
   "source": [
    "# Weighted Search\n",
    "t1 = time.time()\n",
    "c = Training_Evaluation(50,\n",
    "                        5000000, \n",
    "                        Comparison_name, \n",
    "                        Generator_AUL,\n",
    "                        seedDatasetObject, \n",
    "                        ppi=100000,\n",
    "                        Lower64=FixedLowBit,\n",
    "                        Upper64=ModelBase,\n",
    "                        Allocations=NaiveWeightUpdateWithoutZerosEvenFirst,\n",
    "                        Upper64_HPs={\"sampler\":predict_base_function_faster, \n",
    "                                     \"model\":GeneratorMaskedLSTM,\n",
    "                                     \"sampling_batch_size\":10500,\n",
    "                                     \"lr\":1e-3, \n",
    "                                     \"dropout\":0.2, \n",
    "                                     \"layers\":[512, 256], \n",
    "                                     \"encoder\":AllocationEncoder, \n",
    "                                     \"preload\":False, \n",
    "                                     \"validation_split\":0.15},                            \n",
    "                        Lower64_HPs={\"Allocations\":seedDatasetObject.allocation_proc_models.allocation_strings},\n",
    "                        Allocation_HPs={\"threshold\":0.5, \n",
    "                                        \"observation_window\":3}\n",
    "                       )\n",
    "t2 = time.time()\n",
    "print(\"Time: \", t2-t1)\n",
    "print(\"Time per IP:\", (t2-t1)/100000000)"
   ]
  }
 ],
 "metadata": {
  "kernelspec": {
   "display_name": "Python 3 (ipykernel)",
   "language": "python",
   "name": "python3"
  },
  "language_info": {
   "codemirror_mode": {
    "name": "ipython",
    "version": 3
   },
   "file_extension": ".py",
   "mimetype": "text/x-python",
   "name": "python",
   "nbconvert_exporter": "python",
   "pygments_lexer": "ipython3",
   "version": "3.9.17"
  }
 },
 "nbformat": 4,
 "nbformat_minor": 5
}
